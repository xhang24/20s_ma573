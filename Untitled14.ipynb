{
  "nbformat": 4,
  "nbformat_minor": 0,
  "metadata": {
    "colab": {
      "name": "Untitled14.ipynb",
      "provenance": [],
      "authorship_tag": "ABX9TyMFcQmFOk4TuVlEOVrrY78z",
      "include_colab_link": true
    },
    "kernelspec": {
      "name": "python3",
      "display_name": "Python 3"
    }
  },
  "cells": [
    {
      "cell_type": "markdown",
      "metadata": {
        "id": "view-in-github",
        "colab_type": "text"
      },
      "source": [
        "<a href=\"https://colab.research.google.com/github/xhang24/20s_ma573/blob/master/Untitled14.ipynb\" target=\"_parent\"><img src=\"https://colab.research.google.com/assets/colab-badge.svg\" alt=\"Open In Colab\"/></a>"
      ]
    },
    {
      "cell_type": "code",
      "metadata": {
        "id": "aUEzFuZ7hWzz",
        "colab_type": "code",
        "colab": {
          "base_uri": "https://localhost:8080/",
          "height": 134
        },
        "outputId": "6351c05e-a3f4-4e05-ea17-778297d1e012"
      },
      "source": [
        "import random, math\n",
        "\n",
        "NumTrial = 10000\n",
        "NumRight = 0\n",
        "NumAcute = 0\n",
        "NumObtuse = 0\n",
        "\n",
        "xpos, ypos, dist, angle = [[0,0,0],[0,0,0],[0,0,0],[0,0,0]]\n",
        "\n",
        "for i in range(NumTrial):\n",
        "  for j in range(3):\n",
        "    theta = 2*math.pi*random.random()\n",
        "    xpos[j] = math.sin(theta)\n",
        "    ypos[j] = math.cos(theta)\n",
        "\n",
        "  for j in range(3):\n",
        "    if j < 2:\n",
        "      dist[j] = math.pow((math.pow(xpos[j]-xpos[j+1],2)+math.pow(ypos[j]-ypos[j+1],2)), 0.5)\n",
        "    else:\n",
        "      dist[j] = math.pow((math.pow(xpos[j]-xpos[0],2)+math.pow(ypos[j]-ypos[0],2)), 0.5)\n",
        "  \n",
        "  a,b,c = dist[0],dist[1],dist[2]\n",
        "  angle[0] = math.acos( (math.pow(a,2)+math.pow(b,2)-math.pow(c,2)) / (2*a*b) )*180.0/math.pi\n",
        "  a,b,c = dist[1],dist[2],dist[0]\n",
        "  angle[1] = math.acos( (math.pow(a,2)+math.pow(b,2)-math.pow(c,2)) / (2*a*b) )*180.0/math.pi    \n",
        "  a,b,c = dist[2],dist[0],dist[1]\n",
        "  angle[2] = math.acos( (math.pow(a,2)+math.pow(b,2)-math.pow(c,2)) / (2*a*b) )*180.0/math.pi    \n",
        "\n",
        "  if angle[0]==90 or angle[1]==90 or angle[2]==90:\n",
        "    NumRight += 1\n",
        "  elif angle[0]<90 and angle[1]<90 and angle[2]<90:\n",
        "    NumAcute += 1\n",
        "  else:\n",
        "    NumObtuse += 1\n"
      ],
      "execution_count": 2,
      "outputs": [
        {
          "output_type": "error",
          "ename": "SyntaxError",
          "evalue": "ignored",
          "traceback": [
            "\u001b[0;36m  File \u001b[0;32m\"<ipython-input-2-022264ac6f56>\"\u001b[0;36m, line \u001b[0;32m36\u001b[0m\n\u001b[0;31m    print 'Prob for right triangle is ', float(NumRight)/NumTrial\u001b[0m\n\u001b[0m                                      ^\u001b[0m\n\u001b[0;31mSyntaxError\u001b[0m\u001b[0;31m:\u001b[0m invalid syntax\n"
          ]
        }
      ]
    },
    {
      "cell_type": "code",
      "metadata": {
        "id": "LiPx7h_Jhq1z",
        "colab_type": "code",
        "colab": {}
      },
      "source": [
        "import random\n",
        "import math\n",
        "\n",
        "# radius of the circle\n",
        "circle_r = 10\n",
        "# center of the circle (x, y)\n",
        "circle_x0 = 1\n",
        "circle_y0 = 0\n",
        "\n",
        "\n",
        "alpha1 = 2 * math.pi * random.random()\n",
        "alpha2 = 2 * math.pi * random.random()\n",
        "\n",
        "x1 = math.cos(alpha1)\n",
        "x2 = math.cos(alpha2)\n",
        "y1 = math.sin(alpha1)\n",
        "y2 = math.sin(alpha2)\n",
        "\n",
        "d0 =(x2-x1)*(x2-x1)+(y2-y1)*(y2-y1)\n",
        "d1 =(x2-x0)*(x2-x0)+(y2-y0)*(y2-y0)\n",
        "d2 =(x1-x0)*(x1-x0)+(y1-y0)*(y1-y0)\n",
        "\n",
        "\n"
      ],
      "execution_count": 0,
      "outputs": []
    }
  ]
}