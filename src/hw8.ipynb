{
  "nbformat": 4,
  "nbformat_minor": 0,
  "metadata": {
    "colab": {
      "name": "Untitled8.ipynb",
      "provenance": [],
      "authorship_tag": "ABX9TyMJ+N7HSxMBSh2VGhmSPPjo",
      "include_colab_link": true
    },
    "kernelspec": {
      "name": "python3",
      "display_name": "Python 3"
    }
  },
  "cells": [
    {
      "cell_type": "markdown",
      "metadata": {
        "id": "view-in-github",
        "colab_type": "text"
      },
      "source": [
        "<a href=\"https://colab.research.google.com/github/xhang24/20s_ma573/blob/master/src/hw8.ipynb\" target=\"_parent\"><img src=\"https://colab.research.google.com/assets/colab-badge.svg\" alt=\"Open In Colab\"/></a>"
      ]
    },
    {
      "cell_type": "code",
      "metadata": {
        "id": "oJ_--dWY7rua",
        "colab_type": "code",
        "colab": {}
      },
      "source": [
        "import numpy as np\n",
        "from scipy.linalg import solve\n",
        "def solve_function(e,interval_num):\n",
        "  r=e*(interval_num**2)\n",
        "  t=r\n",
        "  s=2*r+1\n",
        "  Rhf=np.linspace(0, 1, num=interval_num+1, endpoint=True)\n",
        "  Rhf[-1]=0\n",
        "  Lh=np.zeros((interval_num+1,interval_num+1))\n",
        "  Lh[0,0]=1\n",
        "  Lh[-1,-1]=1\n",
        "  for i in range(interval_num-1):\n",
        "    Lh[i+1,i]=-r\n",
        "    Lh[i+1,i+1]=s\n",
        "    Lh[i+1,i+2]=-t\n",
        "  uh=solve(Lh,Rhf)\n",
        "  return uh"
      ],
      "execution_count": 0,
      "outputs": []
    },
    {
      "cell_type": "code",
      "metadata": {
        "id": "W3maU8sO78LN",
        "colab_type": "code",
        "colab": {}
      },
      "source": [
        ""
      ],
      "execution_count": 0,
      "outputs": []
    },
    {
      "cell_type": "code",
      "metadata": {
        "id": "zznr7Uay73q3",
        "colab_type": "code",
        "colab": {
          "base_uri": "https://localhost:8080/",
          "height": 34
        },
        "outputId": "d20857ff-2b43-45ac-de6a-7db9da867894"
      },
      "source": [
        "solve_function(10**(-10),5)"
      ],
      "execution_count": 16,
      "outputs": [
        {
          "output_type": "execute_result",
          "data": {
            "text/plain": [
              "array([0. , 0.2, 0.4, 0.6, 0.8, 0. ])"
            ]
          },
          "metadata": {
            "tags": []
          },
          "execution_count": 16
        }
      ]
    },
    {
      "cell_type": "code",
      "metadata": {
        "id": "5O4qLhFO8G-d",
        "colab_type": "code",
        "colab": {
          "base_uri": "https://localhost:8080/",
          "height": 51
        },
        "outputId": "0f2136fb-af31-414e-d9ec-093a40e5e446"
      },
      "source": [
        "CFD=solve_function(10**(-10),9)\n",
        "CFD"
      ],
      "execution_count": 17,
      "outputs": [
        {
          "output_type": "execute_result",
          "data": {
            "text/plain": [
              "array([0.        , 0.11111111, 0.22222222, 0.33333333, 0.44444444,\n",
              "       0.55555556, 0.66666667, 0.77777778, 0.88888888, 0.        ])"
            ]
          },
          "metadata": {
            "tags": []
          },
          "execution_count": 17
        }
      ]
    },
    {
      "cell_type": "code",
      "metadata": {
        "id": "nLzM2R8e8KZE",
        "colab_type": "code",
        "colab": {}
      },
      "source": [
        "error_array=np.zeros(10)\n",
        "Rhf=np.linspace(0, 1, num=10, endpoint=True)\n",
        "for i in range(10):\n",
        "  x=Rhf[i]\n",
        "  e=10**(-10)\n",
        "  u=x-(np.exp((x-1)/np.sqrt(e))-np.exp(-(x+1)/np.sqrt(e)))/(1-np.exp(-2/np.sqrt(e)))\n",
        "  error=np.abs(u-CFD[i])\n",
        "  error_array[i]=error"
      ],
      "execution_count": 0,
      "outputs": []
    },
    {
      "cell_type": "code",
      "metadata": {
        "id": "lrjnhXAp8MM2",
        "colab_type": "code",
        "colab": {
          "base_uri": "https://localhost:8080/",
          "height": 68
        },
        "outputId": "f7cf8981-90aa-4ecc-8653-0217f8b070ce"
      },
      "source": [
        "error_array"
      ],
      "execution_count": 19,
      "outputs": [
        {
          "output_type": "execute_result",
          "data": {
            "text/plain": [
              "array([0.00000000e+00, 0.00000000e+00, 0.00000000e+00, 0.00000000e+00,\n",
              "       5.55111512e-17, 0.00000000e+00, 1.11022302e-16, 1.11022302e-16,\n",
              "       8.09999989e-09, 0.00000000e+00])"
            ]
          },
          "metadata": {
            "tags": []
          },
          "execution_count": 19
        }
      ]
    },
    {
      "cell_type": "code",
      "metadata": {
        "id": "6JYNTmEXtO8T",
        "colab_type": "code",
        "colab": {}
      },
      "source": [
        ""
      ],
      "execution_count": 0,
      "outputs": []
    },
    {
      "cell_type": "markdown",
      "metadata": {
        "id": "JGvNnG0wtSmK",
        "colab_type": "text"
      },
      "source": [
        "and same as the proof said the cfd looks better than fem. \n",
        "Compared error array with the FDE error shown in the report."
      ]
    }
  ]
}